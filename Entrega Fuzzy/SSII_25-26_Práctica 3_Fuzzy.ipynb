{
 "cells": [
  {
   "cell_type": "markdown",
   "metadata": {
    "id": "48txrMHGTK91"
   },
   "source": [
    "## 🛑 Complete los siguientes datos\n",
    "\n",
    "- Número de grupo: Grupo 2\n",
    "- Nombre y Apellidos de los integrantes: Jon Ochoa, Xabier Lopez\n",
    "- Fecha: 23/10/2025\n",
    "- Tiempo dedicado a la entrega: 6 Dias"
   ]
  },
  {
   "cell_type": "markdown",
   "metadata": {
    "id": "JzBiXMLnKXwu"
   },
   "source": [
    "# 🛑 Notas generales"
   ]
  },
  {
   "cell_type": "markdown",
   "metadata": {
    "id": "eUhMN-zEVOQf"
   },
   "source": [
    "-\tDos o más prácticas iguales o con un índice de similitud muy alto serán consideradas plagio por todos los implicados.\n",
    "\n",
    "-\tTodas las prácticas son susceptibles de ser revisadas minuciosamente, incluyendo una defensa por parte de sus autores de forma individual. En caso de suspender esta defensa se suspendería la práctica.\n",
    "\n",
    "-\tLa práctica supone la realización de todos los apartados y el cumplimiento de todas las condiciones, si falta alguno, la práctica estará incompleta y no será evaluada.\n",
    "    -\t<font color='red'>Las prácticas que no cumplan este requisito serán consideradas no válidas y obtendrán una calificación de 0.</font>\n",
    "\n",
    "-\tLas prácticas han de ser funcionales y no dar error en su ejecución.\n",
    "    -\t<font color='red'>Las prácticas que no cumplan este requisito serán consideradas no válidas y obtendrán una calificación de 0.</font>\n"
   ]
  },
  {
   "cell_type": "markdown",
   "metadata": {
    "id": "BWYReyMDTFrH"
   },
   "source": [
    "# 🛑 Instrucciones"
   ]
  },
  {
   "cell_type": "markdown",
   "metadata": {
    "id": "8i2sgrJFTFrN"
   },
   "source": [
    "Este es el cuaderno que utilizarás como **plantilla** para entrega de la práctica correpondiente.\n",
    "\n",
    "Por favor, **lee atentamente** el enunciado. Si tienes alguna duda, utiliza el foro o pregunta en clase (pero no compartas código).\n",
    "\n",
    "Consideraciones generales sobre el código:\n",
    "- Utilizar tantas celdas (de texto o de código) como considere para dar una respuesta legible y clara a las preguntas planteadas.\n",
    "- Mostrar resultados intermedios o finales (tablas, contenido de las variables...) que demuestren que la solución es correcta si fuera necesario.\n",
    "- No olvidéis importar todas las librerías necesarias para la correcta ejecución del código.\n",
    "\n",
    "En las indicaciones, hay instrucciones extra indicadas con el símbolo 🤖. No son requisitos para superar la práctica, sino acciones que puedes realizar para mejorar la calificación.\n",
    "\n",
    "La calificación de los ejercicios se hará con los siguientes criterios:\n",
    "- [9 a 10] puntos: La solución aportada cumple con los requisitos de forma excelente y existen aspectos positivos o extras (🤖) que avalan su excelencia.\n",
    "- [7 a 9] puntos: La solución aportada cumple con los requisitos, pero algunas cuestiones menores son susceptibles de ser mejoradas, tales como: presentación de la solución, justificación de la decisión tomada, eficiencia del código...\n",
    "- [5 a 7] puntos: Las soluciones aportadas no cumplen alguno de los requisitos, como por ejemplo: no se responde a una pregunta, no se aporta la solución a una parte...\n",
    "- [1 a 5] puntos: La solución aportada no cumple con varios requisitos.\n",
    "- [0] puntos: solución no aportada o solución plagiada. **Cabecera no completada, ficheros con nombre erróneo, etc.**\n",
    "\n",
    "La nota de la práctica dependerá de:\n",
    "1.\tCumplimiento de las condiciones.\n",
    "2.\tSofisticación del sistema.\n",
    "3.\tRealismo del sistema.\n",
    "4.  Limpieza y eficiencia del código.\n",
    "5.  Comentarios aportados.\n"
   ]
  },
  {
   "cell_type": "markdown",
   "metadata": {
    "id": "-YPrfQZnS4_6"
   },
   "source": [
    "# 🛑 Desarrollo a realizar"
   ]
  },
  {
   "cell_type": "markdown",
   "metadata": {
    "id": "_1SWZBLaTLC_"
   },
   "source": [
    "En esta práctica tendrás que desarrollar un sistema experto relacionado con algún problema relacionada con la [temática seleccionado](https://alud.deusto.es/mod/resource/view.php?id=888783) al inicio del curso.\n",
    "\n",
    "El problema a resolver ha de ser solucionable a través de un sistema difuso, recuerda que un sistema difuso se utiliza cuando la lógica tradicional no es suficiente para modelar la incertidumbre o la ambigüedad  del problema. Por lo tanto, si el problema implica tomar decisiones en situaciones donde los límites no son claros o donde se requiere manejar información parcial o ambigua, un sistema difuso sería adecuado para abordarlo."
   ]
  },
  {
   "cell_type": "markdown",
   "metadata": {
    "id": "ftSzc0AGV73r"
   },
   "source": [
    "# 🛑 Entrega"
   ]
  },
  {
   "cell_type": "markdown",
   "metadata": {
    "id": "i7S50FwwJKoD"
   },
   "source": [
    "## Validación del problema"
   ]
  },
  {
   "cell_type": "markdown",
   "metadata": {
    "id": "GEmYuBWBJH42"
   },
   "source": [
    "Descripción del problema a resolver:\n"
   ]
  },
  {
   "cell_type": "markdown",
   "metadata": {
    "id": "FnkXujQiJQrH"
   },
   "source": [
    "En un almacén automatizado con múltiples robots móviles (AMR), las decisiones operativas suelen depender de variables inciertas o ambiguas: la congestión real de un pasillo cambia con el tiempo, los sensores reportan distancias con ruido, la urgencia percibida de un pedido depende de ventanas de tiempo flexibles, y la “seguridad” de circular a cierta velocidad no es un umbral nítido.\n",
    "Proponemos un sistema difuso que, dados nivel de batería, distancia al objetivo, congestión del pasillo y urgencia del pedido (y opcionalmente peso del pedido), calcula tres salidas:\n",
    "\n",
    "    Velocidad recomendada del robot (muy-baja, baja, media, alta, muy-alta).\n",
    "\n",
    "\n",
    "No hacen falta, valorar:\n",
    "    Prioridad de asignación (baja–alta) para el dispatcher (sirve para desempatar entre robots/pedidos).\n",
    "    Necesidad de desvío/espera (baja–alta) para evitar colisiones cuando la congestión es alta.\n"
   ]
  },
  {
   "cell_type": "code",
   "execution_count": null,
   "metadata": {},
   "outputs": [],
   "source": []
  },
  {
   "cell_type": "markdown",
   "metadata": {
    "id": "vBWEfomjJbZ4"
   },
   "source": [
    "•\tConfirmación del docente (fecha y comentarios):"
   ]
  },
  {
   "cell_type": "markdown",
   "metadata": {
    "id": "noHw1QzeJbaC"
   },
   "source": [
    "<font color=\"red\">Tu respuesta</font>"
   ]
  },
  {
   "cell_type": "markdown",
   "metadata": {
    "id": "cU_2J3o_Jf6d"
   },
   "source": [
    "## Introducción"
   ]
  },
  {
   "cell_type": "markdown",
   "metadata": {
    "id": "R-LceQ7lJf6f"
   },
   "source": [
    "Breve descripción del sistema experto y el problema que resuelve.\n"
   ]
  },
  {
   "cell_type": "markdown",
   "metadata": {
    "id": "lHnszSRvJf6g"
   },
   "source": [
    "El sistema experto desarrollado aplica lógica difusa para recomendar la velocidad óptima de desplazamiento de un robot móvil autónomo (AMR) dentro de un almacén automatizado.\n",
    "A diferencia de un sistema de control clásico basado en umbrales fijos, este modelo gestiona situaciones ambiguas o imprecisas, como la congestión variable en los pasillos o la urgencia flexible de los pedidos.\n",
    "\n",
    "El sistema recibe como entradas:\n",
    "\n",
    "Nivel de batería (%): refleja la autonomía disponible.\n",
    "\n",
    "Distancia al destino (m): mide cuánto le falta para completar la tarea.\n",
    "\n",
    "Congestión del pasillo (0–1): estima la densidad de tráfico o posibles bloqueos.\n",
    "\n",
    "Urgencia del pedido (0–1): indica la prioridad operativa del traslado.\n",
    "\n",
    "A partir de estas variables, el sistema difuso calcula la velocidad recomendada del robot (speed_cmd) con cinco etiquetas lingüísticas: muy baja, baja, media, alta y muy alta.\n",
    "El modelo busca equilibrar seguridad (evitar colisiones o maniobras bruscas) y eficiencia (cumplir los pedidos urgentes con rapidez), ofreciendo una salida continua y explicable incluso ante información incierta.\n"
   ]
  },
  {
   "cell_type": "markdown",
   "metadata": {
    "id": "NLIAauMCJf6i"
   },
   "source": [
    "**Contexto y finalidad del sistema.**\n",
    "\n",
    "\n"
   ]
  },
  {
   "cell_type": "markdown",
   "metadata": {
    "id": "Dbi-Np0vJu_t"
   },
   "source": [
    "En un entorno de intralogística automatizada, los AMR comparten espacios de trabajo con otros robots y operarios, lo que hace que las condiciones de circulación sean dinámicas y difíciles de modelar de forma precisa.\n",
    "La finalidad del sistema es apoyar la toma de decisiones operativas del robot, proporcionando una recomendación de velocidad adaptativa en función de factores cambiantes.\n",
    "\n",
    "    Contexto industrial: almacén automatizado con tráfico variable, rutas compartidas y diferentes prioridades de pedidos.\n",
    "\n",
    "    Finalidad técnica: optimizar el movimiento del robot sin comprometer seguridad ni eficiencia energética.\n",
    "\n",
    "    Beneficio: sustituir umbrales fijos (“si congestión > 70%, velocidad = 0.5 m/s”) por un razonamiento difuso más realista y flexible.\n",
    "\n",
    "La salida del sistema puede integrarse en un módulo de planificación o control de flota, de modo que el sistema experto actúe como un “asistente inteligente” que ajusta la velocidad de cada robot según la situación real."
   ]
  },
  {
   "cell_type": "markdown",
   "metadata": {
    "id": "Jobfn6VEJwOa"
   },
   "source": [
    "## Documentación"
   ]
  },
  {
   "cell_type": "markdown",
   "metadata": {
    "id": "ZJkBp71yJy6q"
   },
   "source": [
    "Describa cada una de las fases necesarias para el desarrollo de un sistema experto contextualizadas en tu problema.\n",
    "\n",
    "Describe cada una de las fases necesarias para el desarrollo de un [sistema experto basado en reglas](https://alud.deusto.es/pluginfile.php/1524250/mod_resource/content/18/SSII_2.1%20Sistemas%20Expertos%20basados%20en%20reglas.pdf#page=18), contextualizándolas con el problema que hayas elegido.\n",
    "Es decir, no solo menciones las fases, sino que expliques cómo se aplicarían específicamente a tu problema.\n",
    "\n",
    "Recuerda, el conocimiento usado ha de basarse en una fuente fidedigna y ha de ser relevante para resolver el problema seleccionado."
   ]
  },
  {
   "cell_type": "markdown",
   "metadata": {
    "id": "P52MM-A1Kmmf"
   },
   "source": [
    "El desarrollo del sistema experto se estructura en cinco fases clásicas, adaptadas al problema de la velocidad recomendada de un AMR:\n",
    "\n",
    "1. Adquisición del conocimiento\n",
    "\n",
    "    Consiste en recopilar información de expertos humanos o fuentes técnicas sobre cómo deben comportarse los robots en distintas condiciones.\n",
    "    En este caso, el conocimiento procede de:\n",
    "\n",
    "    Normas y buenas prácticas en la operación de AMR/AGV (p. ej., ISO 3691-4 sobre seguridad de vehículos industriales).\n",
    "    Experiencia operativa en intralogística: reducir velocidad ante congestión, batería baja o proximidad; aumentar con urgencia alta y entorno libre.\n",
    "    Fuentes académicas sobre control difuso en movilidad robotizada (Fragapane et al., 2021; Rema et al., 2025).\n",
    "\n",
    "    Este conocimiento se traduce en variables medibles (batería, distancia, congestión, urgencia) y en la relación cualitativa entre ellas y la velocidad deseada.\n",
    "\n",
    "2. Representación del conocimiento\n",
    "\n",
    "    La información obtenida se modela mediante conjuntos difusos y reglas lingüísticas.\n",
    "    Cada variable se define con funciones de pertenencia adecuadas:\n",
    "\n",
    "    battery:high → gaussiana (suaviza transición alta).\n",
    "    congestion:high → sigmoide (riesgo crece rápido).\n",
    "    urgency:critical → campana (transición más gradual).\n",
    "    La salida speed_cmd usa cinco conjuntos (muy_baja → muy_alta) para cubrir todo el rango de velocidades posibles.\n",
    "\n",
    "3. Inferencia\n",
    "\n",
    "    Es el razonamiento del sistema, donde se aplican las reglas a los hechos actuales.\n",
    "    El sistema emplea un modelo Mamdani, con implicación min, agregación max y defuzzificación por centroide, lo que permite combinar varias reglas activas simultáneamente.\n",
    "    Ejemplo de regla:\n",
    "\n",
    "    Si urgencia es alta y congestión es baja y batería es alta, entonces velocidad es alta.\n",
    "    \n",
    "    De esta forma, el sistema puede emitir una recomendación intermedia y continua, no binaria.\n",
    "\n",
    "4. Validación y ajuste\n",
    "\n",
    "    En esta fase se comprueba el comportamiento del sistema ante escenarios representativos:\n",
    "\n",
    "    Urgencia alta, pasillo despejado, batería alta → salida muy alta.\n",
    "    Congestión alta y distancia corta → salida muy baja.\n",
    "    Urgencia media y batería media → salida media.\n",
    "\n",
    "    Si los resultados no son coherentes, se ajustan los rangos o las pendientes de las funciones de pertenencia.\n",
    "\n",
    "5. Mantenimiento y actualización\n",
    "\n",
    "    El sistema debe poder revisarse con nueva información de operación:\n",
    "\n",
    "    Ajustar funciones de pertenencia si se modifican las velocidades máximas o los criterios de seguridad.\n",
    "    Añadir nuevas variables (p. ej., peso del pedido o riesgo de zona) si el almacén se complejiza.\n",
    "    Actualizar las reglas según retroalimentación de operarios o datos históricos.\n",
    "\n",
    "Fuentes de conocimiento\n",
    "\n",
    "Fragapane, G. et al. (2021). Planning and control of autonomous mobile robots for intralogistics. Transportation Research Part C.\n",
    "Rema, C. et al. (2025). Task Scheduling with Mobile Robots—A Systematic Literature Review. Robotics 14(6).\n",
    "ISO 3691-4 (2020). Industrial trucks — Safety requirements for driverless industrial trucks and their systems.\n",
    "ULMA Handling Systems (2024). Automatización y seguridad en intralogística AMR/AGV."
   ]
  },
  {
   "cell_type": "markdown",
   "metadata": {
    "id": "0Ksgx3CxJpot"
   },
   "source": [
    "## Programa"
   ]
  },
  {
   "cell_type": "markdown",
   "metadata": {
    "id": "BkctMNArwpit"
   },
   "source": [
    "**Requisitos**\n",
    "\n",
    "* Utilizar al menos 4 variables y codificar al menos 3 conjuntos difusos.\n",
    "* Incluir 8 reglas difusas.\n",
    "* Realizar al menos 3 inferencias y explicar sus resultados.\n",
    "* Explicar el motivo de elección de los conjuntos difusos, reglas y operadores lógicos basándose en documentación o en conocimiento explícito. Proporciona ejemplos su lo consideras necesarios.\n",
    "* Al menos una función de pertenencia ha de ser trapezoidal.\n",
    "* Explicar cómo crees que las decisiones anteriores afectaron el rendimiento del sistema.\n",
    "* El sistema ha de ser realista y basarse en los datos utilizados para construir el sistema experto (2. Adquisición del conocimiento).\n",
    "\n",
    "\n",
    "**🤖Requisitos extra**\n",
    "\n",
    "* Existencia justificada de funciones de pertenencias no triangulares y no trapezoidales con al explicación pertinente.\n",
    "* El sistema ha de tener un grado de sofisticación elevado.\n"
   ]
  },
  {
   "cell_type": "markdown",
   "metadata": {
    "id": "CHOAl0CPJf6j"
   },
   "source": [
    "<font color=\"red\">Tu respuesta</font>"
   ]
  },
  {
   "cell_type": "markdown",
   "metadata": {
    "id": "JrvMbO9iKzp_"
   },
   "source": [
    "## Planificación"
   ]
  },
  {
   "cell_type": "markdown",
   "metadata": {
    "id": "YabxLmtEJAqm"
   },
   "source": [
    "Reflexionad sobre si habéis seguido la planificación que definisteis en el Entregable CG.2. Explicad qué aspectos se cumplieron, cuáles no, y las razones que llevaron a cualquier desviación."
   ]
  },
  {
   "cell_type": "markdown",
   "metadata": {
    "id": "r4VznZAKKzqF"
   },
   "source": [
    "<font color=\"red\">Tu respuesta</font>"
   ]
  },
  {
   "cell_type": "markdown",
   "metadata": {
    "id": "gh69VMGeK_YA"
   },
   "source": [
    "## Principales dudas y dificultades encontrados en el desarrollo"
   ]
  },
  {
   "cell_type": "markdown",
   "metadata": {
    "id": "9TpWdRW1K_YE"
   },
   "source": [
    "<font color=\"red\">Tu respuesta</font>"
   ]
  }
 ],
 "metadata": {
  "colab": {
   "provenance": [
    {
     "file_id": "1yKKra0Wi-MQ1K8oXJQMzs60gWGxpXHrp",
     "timestamp": 1664357693498
    },
    {
     "file_id": "1bS-ZIm17bVFn12wCnlV2ErM6oMVhdNA5",
     "timestamp": 1624962220119
    }
   ]
  },
  "kernelspec": {
   "display_name": "Python 3",
   "name": "python3"
  },
  "language_info": {
   "name": "python",
   "version": "3.14.0"
  }
 },
 "nbformat": 4,
 "nbformat_minor": 0
}
