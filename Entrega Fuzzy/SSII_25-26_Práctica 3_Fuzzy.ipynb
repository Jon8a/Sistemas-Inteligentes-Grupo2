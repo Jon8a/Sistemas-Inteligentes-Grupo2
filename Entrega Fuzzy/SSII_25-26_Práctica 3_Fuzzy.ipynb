{
 "cells": [
  {
   "cell_type": "markdown",
   "metadata": {
    "id": "48txrMHGTK91"
   },
   "source": [
    "## 🛑 Complete los siguientes datos\n",
    "\n",
    "- Número de grupo:\n",
    "- Nombre y Apellidos de los integrantes:\n",
    "- Fecha:\n",
    "- Tiempo dedicado a la entrega:"
   ]
  },
  {
   "cell_type": "markdown",
   "metadata": {
    "id": "JzBiXMLnKXwu"
   },
   "source": [
    "# 🛑 Notas generales"
   ]
  },
  {
   "cell_type": "markdown",
   "metadata": {
    "id": "eUhMN-zEVOQf"
   },
   "source": [
    "-\tDos o más prácticas iguales o con un índice de similitud muy alto serán consideradas plagio por todos los implicados.\n",
    "\n",
    "-\tTodas las prácticas son susceptibles de ser revisadas minuciosamente, incluyendo una defensa por parte de sus autores de forma individual. En caso de suspender esta defensa se suspendería la práctica.\n",
    "\n",
    "-\tLa práctica supone la realización de todos los apartados y el cumplimiento de todas las condiciones, si falta alguno, la práctica estará incompleta y no será evaluada.\n",
    "    -\t<font color='red'>Las prácticas que no cumplan este requisito serán consideradas no válidas y obtendrán una calificación de 0.</font>\n",
    "\n",
    "-\tLas prácticas han de ser funcionales y no dar error en su ejecución.\n",
    "    -\t<font color='red'>Las prácticas que no cumplan este requisito serán consideradas no válidas y obtendrán una calificación de 0.</font>\n"
   ]
  },
  {
   "cell_type": "markdown",
   "metadata": {
    "id": "BWYReyMDTFrH"
   },
   "source": [
    "# 🛑 Instrucciones"
   ]
  },
  {
   "cell_type": "markdown",
   "metadata": {
    "id": "8i2sgrJFTFrN"
   },
   "source": [
    "Este es el cuaderno que utilizarás como **plantilla** para entrega de la práctica correpondiente.\n",
    "\n",
    "Por favor, **lee atentamente** el enunciado. Si tienes alguna duda, utiliza el foro o pregunta en clase (pero no compartas código).\n",
    "\n",
    "Consideraciones generales sobre el código:\n",
    "- Utilizar tantas celdas (de texto o de código) como considere para dar una respuesta legible y clara a las preguntas planteadas.\n",
    "- Mostrar resultados intermedios o finales (tablas, contenido de las variables...) que demuestren que la solución es correcta si fuera necesario.\n",
    "- No olvidéis importar todas las librerías necesarias para la correcta ejecución del código.\n",
    "\n",
    "En las indicaciones, hay instrucciones extra indicadas con el símbolo 🤖. No son requisitos para superar la práctica, sino acciones que puedes realizar para mejorar la calificación.\n",
    "\n",
    "La calificación de los ejercicios se hará con los siguientes criterios:\n",
    "- [9 a 10] puntos: La solución aportada cumple con los requisitos de forma excelente y existen aspectos positivos o extras (🤖) que avalan su excelencia.\n",
    "- [7 a 9] puntos: La solución aportada cumple con los requisitos, pero algunas cuestiones menores son susceptibles de ser mejoradas, tales como: presentación de la solución, justificación de la decisión tomada, eficiencia del código...\n",
    "- [5 a 7] puntos: Las soluciones aportadas no cumplen alguno de los requisitos, como por ejemplo: no se responde a una pregunta, no se aporta la solución a una parte...\n",
    "- [1 a 5] puntos: La solución aportada no cumple con varios requisitos.\n",
    "- [0] puntos: solución no aportada o solución plagiada. **Cabecera no completada, ficheros con nombre erróneo, etc.**\n",
    "\n",
    "La nota de la práctica dependerá de:\n",
    "1.\tCumplimiento de las condiciones.\n",
    "2.\tSofisticación del sistema.\n",
    "3.\tRealismo del sistema.\n",
    "4.  Limpieza y eficiencia del código.\n",
    "5.  Comentarios aportados.\n"
   ]
  },
  {
   "cell_type": "markdown",
   "metadata": {
    "id": "-YPrfQZnS4_6"
   },
   "source": [
    "# 🛑 Desarrollo a realizar"
   ]
  },
  {
   "cell_type": "markdown",
   "metadata": {
    "id": "_1SWZBLaTLC_"
   },
   "source": [
    "En esta práctica tendrás que desarrollar un sistema experto relacionado con algún problema relacionada con la [temática seleccionado](https://alud.deusto.es/mod/resource/view.php?id=888783) al inicio del curso.\n",
    "\n",
    "El problema a resolver ha de ser solucionable a través de un sistema difuso, recuerda que un sistema difuso se utiliza cuando la lógica tradicional no es suficiente para modelar la incertidumbre o la ambigüedad  del problema. Por lo tanto, si el problema implica tomar decisiones en situaciones donde los límites no son claros o donde se requiere manejar información parcial o ambigua, un sistema difuso sería adecuado para abordarlo."
   ]
  },
  {
   "cell_type": "markdown",
   "metadata": {
    "id": "ftSzc0AGV73r"
   },
   "source": [
    "# 🛑 Entrega"
   ]
  },
  {
   "cell_type": "markdown",
   "metadata": {
    "id": "i7S50FwwJKoD"
   },
   "source": [
    "## Validación del problema"
   ]
  },
  {
   "cell_type": "markdown",
   "metadata": {
    "id": "GEmYuBWBJH42"
   },
   "source": [
    "Descripción del problema a resolver:\n"
   ]
  },
  {
   "cell_type": "markdown",
   "metadata": {
    "id": "FnkXujQiJQrH"
   },
   "source": [
    "En un almacén automatizado con múltiples robots móviles (AMR), las decisiones operativas suelen depender de variables inciertas o ambiguas: la congestión real de un pasillo cambia con el tiempo, los sensores reportan distancias con ruido, la urgencia percibida de un pedido depende de ventanas de tiempo flexibles, y la “seguridad” de circular a cierta velocidad no es un umbral nítido.\n",
    "Proponemos un sistema difuso que, dados nivel de batería, distancia al objetivo, congestión del pasillo y urgencia del pedido (y opcionalmente peso del pedido), calcula tres salidas:\n",
    "\n",
    "    Velocidad recomendada del robot (muy-baja, baja, media, alta, muy-alta).\n",
    "\n",
    "\n",
    "No hacen falta, valorar:\n",
    "    Prioridad de asignación (baja–alta) para el dispatcher (sirve para desempatar entre robots/pedidos).\n",
    "    Necesidad de desvío/espera (baja–alta) para evitar colisiones cuando la congestión es alta.\n"
   ]
  },
  {
   "cell_type": "markdown",
   "metadata": {
    "id": "vBWEfomjJbZ4"
   },
   "source": [
    "•\tConfirmación del docente (fecha y comentarios):"
   ]
  },
  {
   "cell_type": "markdown",
   "metadata": {
    "id": "noHw1QzeJbaC"
   },
   "source": [
    "<font color=\"red\">Tu respuesta</font>"
   ]
  },
  {
   "cell_type": "markdown",
   "metadata": {
    "id": "cU_2J3o_Jf6d"
   },
   "source": [
    "## Introducción"
   ]
  },
  {
   "cell_type": "markdown",
   "metadata": {
    "id": "R-LceQ7lJf6f"
   },
   "source": [
    "Breve descripción del sistema experto y el problema que resuelve.\n"
   ]
  },
  {
   "cell_type": "markdown",
   "metadata": {
    "id": "lHnszSRvJf6g"
   },
   "source": [
    "<font color=\"red\">Tu respuesta</font>"
   ]
  },
  {
   "cell_type": "markdown",
   "metadata": {
    "id": "NLIAauMCJf6i"
   },
   "source": [
    "Contexto y finalidad del sistema.\n",
    "\n",
    "\n"
   ]
  },
  {
   "cell_type": "markdown",
   "metadata": {
    "id": "Dbi-Np0vJu_t"
   },
   "source": [
    "<font color=\"red\">Tu respuesta</font>"
   ]
  },
  {
   "cell_type": "markdown",
   "metadata": {
    "id": "Jobfn6VEJwOa"
   },
   "source": [
    "## Documentación"
   ]
  },
  {
   "cell_type": "markdown",
   "metadata": {
    "id": "ZJkBp71yJy6q"
   },
   "source": [
    "Describa cada una de las fases necesarias para el desarrollo de un sistema experto contextualizadas en tu problema.\n",
    "\n",
    "Describe cada una de las fases necesarias para el desarrollo de un [sistema experto basado en reglas](https://alud.deusto.es/pluginfile.php/1524250/mod_resource/content/18/SSII_2.1%20Sistemas%20Expertos%20basados%20en%20reglas.pdf#page=18), contextualizándolas con el problema que hayas elegido.\n",
    "Es decir, no solo menciones las fases, sino que expliques cómo se aplicarían específicamente a tu problema.\n",
    "\n",
    "Recuerda, el conocimiento usado ha de basarse en una fuente fidedigna y ha de ser relevante para resolver el problema seleccionado."
   ]
  },
  {
   "cell_type": "markdown",
   "metadata": {
    "id": "P52MM-A1Kmmf"
   },
   "source": [
    "<font color=\"red\">Tu respuesta</font>"
   ]
  },
  {
   "cell_type": "markdown",
   "metadata": {
    "id": "0Ksgx3CxJpot"
   },
   "source": [
    "## Programa"
   ]
  },
  {
   "cell_type": "markdown",
   "metadata": {
    "id": "BkctMNArwpit"
   },
   "source": [
    "**Requisitos**\n",
    "\n",
    "* Utilizar al menos 4 variables y codificar al menos 3 conjuntos difusos.\n",
    "* Incluir 8 reglas difusas.\n",
    "* Realizar al menos 3 inferencias y explicar sus resultados.\n",
    "* Explicar el motivo de elección de los conjuntos difusos, reglas y operadores lógicos basándose en documentación o en conocimiento explícito. Proporciona ejemplos su lo consideras necesarios.\n",
    "* Al menos una función de pertenencia ha de ser trapezoidal.\n",
    "* Explicar cómo crees que las decisiones anteriores afectaron el rendimiento del sistema.\n",
    "* El sistema ha de ser realista y basarse en los datos utilizados para construir el sistema experto (2. Adquisición del conocimiento).\n",
    "\n",
    "\n",
    "**🤖Requisitos extra**\n",
    "\n",
    "* Existencia justificada de funciones de pertenencias no triangulares y no trapezoidales con al explicación pertinente.\n",
    "* El sistema ha de tener un grado de sofisticación elevado.\n"
   ]
  },
  {
   "cell_type": "markdown",
   "metadata": {
    "id": "CHOAl0CPJf6j"
   },
   "source": [
    "<font color=\"red\">Tu respuesta</font>"
   ]
  },
  {
   "cell_type": "markdown",
   "metadata": {
    "id": "JrvMbO9iKzp_"
   },
   "source": [
    "## Planificación"
   ]
  },
  {
   "cell_type": "markdown",
   "metadata": {
    "id": "YabxLmtEJAqm"
   },
   "source": [
    "Reflexionad sobre si habéis seguido la planificación que definisteis en el Entregable CG.2. Explicad qué aspectos se cumplieron, cuáles no, y las razones que llevaron a cualquier desviación."
   ]
  },
  {
   "cell_type": "markdown",
   "metadata": {
    "id": "r4VznZAKKzqF"
   },
   "source": [
    "<font color=\"red\">Tu respuesta</font>"
   ]
  },
  {
   "cell_type": "markdown",
   "metadata": {
    "id": "gh69VMGeK_YA"
   },
   "source": [
    "## Principales dudas y dificultades encontrados en el desarrollo"
   ]
  },
  {
   "cell_type": "markdown",
   "metadata": {
    "id": "9TpWdRW1K_YE"
   },
   "source": [
    "<font color=\"red\">Tu respuesta</font>"
   ]
  }
 ],
 "metadata": {
  "colab": {
   "provenance": [
    {
     "file_id": "1yKKra0Wi-MQ1K8oXJQMzs60gWGxpXHrp",
     "timestamp": 1664357693498
    },
    {
     "file_id": "1bS-ZIm17bVFn12wCnlV2ErM6oMVhdNA5",
     "timestamp": 1624962220119
    }
   ]
  },
  "kernelspec": {
   "display_name": "Python 3",
   "name": "python3"
  },
  "language_info": {
   "name": "python"
  }
 },
 "nbformat": 4,
 "nbformat_minor": 0
}
